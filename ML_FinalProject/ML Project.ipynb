{
 "cells": [
  {
   "cell_type": "code",
   "execution_count": 1,
   "id": "886e7e63",
   "metadata": {},
   "outputs": [
    {
     "data": {
      "text/html": [
       "        <script type=\"text/javascript\">\n",
       "        window.PlotlyConfig = {MathJaxConfig: 'local'};\n",
       "        if (window.MathJax) {MathJax.Hub.Config({SVG: {font: \"STIX-Web\"}});}\n",
       "        if (typeof require !== 'undefined') {\n",
       "        require.undef(\"plotly\");\n",
       "        requirejs.config({\n",
       "            paths: {\n",
       "                'plotly': ['https://cdn.plot.ly/plotly-2.9.0.min']\n",
       "            }\n",
       "        });\n",
       "        require(['plotly'], function(Plotly) {\n",
       "            window._Plotly = Plotly;\n",
       "        });\n",
       "        }\n",
       "        </script>\n",
       "        "
      ]
     },
     "metadata": {},
     "output_type": "display_data"
    }
   ],
   "source": [
    "# Keras\n",
    "from keras.preprocessing.text import Tokenizer\n",
    "from keras_preprocessing.sequence import pad_sequences\n",
    "from keras.models import Sequential\n",
    "from keras.layers import Dense, Flatten, LSTM, Conv1D, MaxPooling1D, Dropout, Activation\n",
    "from keras.layers import Embedding\n",
    "\n",
    "# NLTK\n",
    "import nltk\n",
    "from nltk.corpus import stopwords\n",
    "from nltk.stem import SnowballStemmer\n",
    "\n",
    "## Plot\n",
    "import plotly.offline as py\n",
    "import plotly.graph_objs as go\n",
    "py.init_notebook_mode(connected=True)\n",
    "import matplotlib as plt\n",
    "\n",
    "import re\n",
    "import string\n",
    "import numpy as np\n",
    "import pandas as pd\n",
    "from sklearn.manifold import TSNE\n",
    "\n",
    "import matplotlib.pyplot as plt "
   ]
  },
  {
   "cell_type": "code",
   "execution_count": 3,
   "id": "bfaa00a0",
   "metadata": {},
   "outputs": [],
   "source": [
    "df1 = pd.read_csv(\"Sarcastic.csv\", index_col=False)\n",
    "df2 = pd.read_csv(\"Non-Sarcastic.csv\", index_col=False)"
   ]
  },
  {
   "cell_type": "code",
   "execution_count": 4,
   "id": "c1801f35",
   "metadata": {},
   "outputs": [],
   "source": [
    "df = pd.concat([df1,df2])"
   ]
  },
  {
   "cell_type": "code",
   "execution_count": 5,
   "id": "c7547fff",
   "metadata": {},
   "outputs": [],
   "source": [
    "df = df.sample(frac = 1)"
   ]
  },
  {
   "cell_type": "code",
   "execution_count": 6,
   "id": "aca0a2b7",
   "metadata": {},
   "outputs": [
    {
     "data": {
      "text/html": [
       "<div>\n",
       "<style scoped>\n",
       "    .dataframe tbody tr th:only-of-type {\n",
       "        vertical-align: middle;\n",
       "    }\n",
       "\n",
       "    .dataframe tbody tr th {\n",
       "        vertical-align: top;\n",
       "    }\n",
       "\n",
       "    .dataframe thead th {\n",
       "        text-align: right;\n",
       "    }\n",
       "</style>\n",
       "<table border=\"1\" class=\"dataframe\">\n",
       "  <thead>\n",
       "    <tr style=\"text-align: right;\">\n",
       "      <th></th>\n",
       "      <th>Label</th>\n",
       "      <th>date</th>\n",
       "      <th>Tweet</th>\n",
       "    </tr>\n",
       "  </thead>\n",
       "  <tbody>\n",
       "    <tr>\n",
       "      <th>8373</th>\n",
       "      <td>0</td>\n",
       "      <td>2022-10-21 15:40:00+00:00</td>\n",
       "      <td>@GlobalEdmonton Well that’s not going to cause...</td>\n",
       "    </tr>\n",
       "    <tr>\n",
       "      <th>6960</th>\n",
       "      <td>1</td>\n",
       "      <td>2016-12-06 02:05:11+00:00</td>\n",
       "      <td>To think I used to listen to Carly Rae Jepsen ...</td>\n",
       "    </tr>\n",
       "    <tr>\n",
       "      <th>474</th>\n",
       "      <td>0</td>\n",
       "      <td>2022-12-01 15:00:15+00:00</td>\n",
       "      <td>Funny postcard, set of 4, \"Earth sucks. It's t...</td>\n",
       "    </tr>\n",
       "    <tr>\n",
       "      <th>1807</th>\n",
       "      <td>1</td>\n",
       "      <td>2021-05-13 07:36:15+00:00</td>\n",
       "      <td>@RachelRoseReid @maxdavie As a professional th...</td>\n",
       "    </tr>\n",
       "    <tr>\n",
       "      <th>4785</th>\n",
       "      <td>0</td>\n",
       "      <td>2022-11-09 13:02:58+00:00</td>\n",
       "      <td>\"Oh, more than you could ever know,\" she repli...</td>\n",
       "    </tr>\n",
       "  </tbody>\n",
       "</table>\n",
       "</div>"
      ],
      "text/plain": [
       "      Label                       date  \\\n",
       "8373      0  2022-10-21 15:40:00+00:00   \n",
       "6960      1  2016-12-06 02:05:11+00:00   \n",
       "474       0  2022-12-01 15:00:15+00:00   \n",
       "1807      1  2021-05-13 07:36:15+00:00   \n",
       "4785      0  2022-11-09 13:02:58+00:00   \n",
       "\n",
       "                                                  Tweet  \n",
       "8373  @GlobalEdmonton Well that’s not going to cause...  \n",
       "6960  To think I used to listen to Carly Rae Jepsen ...  \n",
       "474   Funny postcard, set of 4, \"Earth sucks. It's t...  \n",
       "1807  @RachelRoseReid @maxdavie As a professional th...  \n",
       "4785  \"Oh, more than you could ever know,\" she repli...  "
      ]
     },
     "execution_count": 6,
     "metadata": {},
     "output_type": "execute_result"
    }
   ],
   "source": [
    "df.head()"
   ]
  },
  {
   "cell_type": "code",
   "execution_count": 7,
   "id": "09e90044",
   "metadata": {},
   "outputs": [],
   "source": [
    "df = df.drop('date', axis=1)\n",
    "df.reset_index(inplace=True, drop=True)"
   ]
  },
  {
   "cell_type": "code",
   "execution_count": 8,
   "id": "30d88108",
   "metadata": {},
   "outputs": [
    {
     "data": {
      "text/html": [
       "<div>\n",
       "<style scoped>\n",
       "    .dataframe tbody tr th:only-of-type {\n",
       "        vertical-align: middle;\n",
       "    }\n",
       "\n",
       "    .dataframe tbody tr th {\n",
       "        vertical-align: top;\n",
       "    }\n",
       "\n",
       "    .dataframe thead th {\n",
       "        text-align: right;\n",
       "    }\n",
       "</style>\n",
       "<table border=\"1\" class=\"dataframe\">\n",
       "  <thead>\n",
       "    <tr style=\"text-align: right;\">\n",
       "      <th></th>\n",
       "      <th>Label</th>\n",
       "      <th>Tweet</th>\n",
       "    </tr>\n",
       "  </thead>\n",
       "  <tbody>\n",
       "    <tr>\n",
       "      <th>0</th>\n",
       "      <td>0</td>\n",
       "      <td>@GlobalEdmonton Well that’s not going to cause...</td>\n",
       "    </tr>\n",
       "    <tr>\n",
       "      <th>1</th>\n",
       "      <td>1</td>\n",
       "      <td>To think I used to listen to Carly Rae Jepsen ...</td>\n",
       "    </tr>\n",
       "    <tr>\n",
       "      <th>2</th>\n",
       "      <td>0</td>\n",
       "      <td>Funny postcard, set of 4, \"Earth sucks. It's t...</td>\n",
       "    </tr>\n",
       "    <tr>\n",
       "      <th>3</th>\n",
       "      <td>1</td>\n",
       "      <td>@RachelRoseReid @maxdavie As a professional th...</td>\n",
       "    </tr>\n",
       "    <tr>\n",
       "      <th>4</th>\n",
       "      <td>0</td>\n",
       "      <td>\"Oh, more than you could ever know,\" she repli...</td>\n",
       "    </tr>\n",
       "    <tr>\n",
       "      <th>...</th>\n",
       "      <td>...</td>\n",
       "      <td>...</td>\n",
       "    </tr>\n",
       "    <tr>\n",
       "      <th>16481</th>\n",
       "      <td>1</td>\n",
       "      <td>@davidnelsonORL @JarredRozelle @DisneyParks @D...</td>\n",
       "    </tr>\n",
       "    <tr>\n",
       "      <th>16482</th>\n",
       "      <td>1</td>\n",
       "      <td>Laksh’s choreo was wayyy more intricate than a...</td>\n",
       "    </tr>\n",
       "    <tr>\n",
       "      <th>16483</th>\n",
       "      <td>0</td>\n",
       "      <td>@ThatAstrosGirl He looks like he doesn't turn ...</td>\n",
       "    </tr>\n",
       "    <tr>\n",
       "      <th>16484</th>\n",
       "      <td>0</td>\n",
       "      <td>Anti-Government, Anti-Democrat, Anti-GOP, Brea...</td>\n",
       "    </tr>\n",
       "    <tr>\n",
       "      <th>16485</th>\n",
       "      <td>1</td>\n",
       "      <td>@EFCTanya I must have missed the non sarcastic...</td>\n",
       "    </tr>\n",
       "  </tbody>\n",
       "</table>\n",
       "<p>16486 rows × 2 columns</p>\n",
       "</div>"
      ],
      "text/plain": [
       "       Label                                              Tweet\n",
       "0          0  @GlobalEdmonton Well that’s not going to cause...\n",
       "1          1  To think I used to listen to Carly Rae Jepsen ...\n",
       "2          0  Funny postcard, set of 4, \"Earth sucks. It's t...\n",
       "3          1  @RachelRoseReid @maxdavie As a professional th...\n",
       "4          0  \"Oh, more than you could ever know,\" she repli...\n",
       "...      ...                                                ...\n",
       "16481      1  @davidnelsonORL @JarredRozelle @DisneyParks @D...\n",
       "16482      1  Laksh’s choreo was wayyy more intricate than a...\n",
       "16483      0  @ThatAstrosGirl He looks like he doesn't turn ...\n",
       "16484      0  Anti-Government, Anti-Democrat, Anti-GOP, Brea...\n",
       "16485      1  @EFCTanya I must have missed the non sarcastic...\n",
       "\n",
       "[16486 rows x 2 columns]"
      ]
     },
     "execution_count": 8,
     "metadata": {},
     "output_type": "execute_result"
    }
   ],
   "source": [
    "df"
   ]
  },
  {
   "cell_type": "code",
   "execution_count": 9,
   "id": "1faf0b5d",
   "metadata": {},
   "outputs": [],
   "source": [
    "df.to_csv('Sarcastic_Dataset.csv',index=False)"
   ]
  },
  {
   "cell_type": "code",
   "execution_count": 2,
   "id": "41bacb14",
   "metadata": {},
   "outputs": [],
   "source": [
    "df = pd.read_csv(\"Sarcastic_Dataset.csv\")"
   ]
  },
  {
   "cell_type": "code",
   "execution_count": 7,
   "id": "bebd0a77",
   "metadata": {},
   "outputs": [
    {
     "data": {
      "text/plain": [
       "0    8954\n",
       "1    7532\n",
       "Name: Label, dtype: int64"
      ]
     },
     "execution_count": 7,
     "metadata": {},
     "output_type": "execute_result"
    }
   ],
   "source": [
    "df[\"Label\"].value_counts()"
   ]
  },
  {
   "cell_type": "code",
   "execution_count": 8,
   "id": "50284cab",
   "metadata": {},
   "outputs": [],
   "source": [
    "def remove_pattern(input_txt, pattern):\n",
    "    r = re.findall(pattern, input_txt)\n",
    "    for i in r:\n",
    "        input_txt = re.sub(i, '', input_txt)\n",
    "        \n",
    "    return input_txt"
   ]
  },
  {
   "cell_type": "code",
   "execution_count": 9,
   "id": "42527650",
   "metadata": {},
   "outputs": [
    {
     "data": {
      "text/html": [
       "<div>\n",
       "<style scoped>\n",
       "    .dataframe tbody tr th:only-of-type {\n",
       "        vertical-align: middle;\n",
       "    }\n",
       "\n",
       "    .dataframe tbody tr th {\n",
       "        vertical-align: top;\n",
       "    }\n",
       "\n",
       "    .dataframe thead th {\n",
       "        text-align: right;\n",
       "    }\n",
       "</style>\n",
       "<table border=\"1\" class=\"dataframe\">\n",
       "  <thead>\n",
       "    <tr style=\"text-align: right;\">\n",
       "      <th></th>\n",
       "      <th>Label</th>\n",
       "      <th>Tweet</th>\n",
       "      <th>Tweet_PP</th>\n",
       "    </tr>\n",
       "  </thead>\n",
       "  <tbody>\n",
       "    <tr>\n",
       "      <th>0</th>\n",
       "      <td>0</td>\n",
       "      <td>@GlobalEdmonton Well that’s not going to cause...</td>\n",
       "      <td>Well that’s not going to cause any problems… ...</td>\n",
       "    </tr>\n",
       "    <tr>\n",
       "      <th>1</th>\n",
       "      <td>1</td>\n",
       "      <td>To think I used to listen to Carly Rae Jepsen ...</td>\n",
       "      <td>To think I used to listen to Carly Rae Jepsen ...</td>\n",
       "    </tr>\n",
       "    <tr>\n",
       "      <th>2</th>\n",
       "      <td>0</td>\n",
       "      <td>Funny postcard, set of 4, \"Earth sucks. It's t...</td>\n",
       "      <td>Funny postcard, set of 4, \"Earth sucks. It's t...</td>\n",
       "    </tr>\n",
       "    <tr>\n",
       "      <th>3</th>\n",
       "      <td>1</td>\n",
       "      <td>@RachelRoseReid @maxdavie As a professional th...</td>\n",
       "      <td>As a professional this would really wind me ...</td>\n",
       "    </tr>\n",
       "    <tr>\n",
       "      <th>4</th>\n",
       "      <td>0</td>\n",
       "      <td>\"Oh, more than you could ever know,\" she repli...</td>\n",
       "      <td>\"Oh, more than you could ever know,\" she repli...</td>\n",
       "    </tr>\n",
       "  </tbody>\n",
       "</table>\n",
       "</div>"
      ],
      "text/plain": [
       "   Label                                              Tweet  \\\n",
       "0      0  @GlobalEdmonton Well that’s not going to cause...   \n",
       "1      1  To think I used to listen to Carly Rae Jepsen ...   \n",
       "2      0  Funny postcard, set of 4, \"Earth sucks. It's t...   \n",
       "3      1  @RachelRoseReid @maxdavie As a professional th...   \n",
       "4      0  \"Oh, more than you could ever know,\" she repli...   \n",
       "\n",
       "                                            Tweet_PP  \n",
       "0   Well that’s not going to cause any problems… ...  \n",
       "1  To think I used to listen to Carly Rae Jepsen ...  \n",
       "2  Funny postcard, set of 4, \"Earth sucks. It's t...  \n",
       "3    As a professional this would really wind me ...  \n",
       "4  \"Oh, more than you could ever know,\" she repli...  "
      ]
     },
     "execution_count": 9,
     "metadata": {},
     "output_type": "execute_result"
    }
   ],
   "source": [
    "df['Tweet_PP'] = np.vectorize(remove_pattern)(df['Tweet'], \"@[\\w]*\") \n",
    "df.head()"
   ]
  },
  {
   "cell_type": "code",
   "execution_count": 10,
   "id": "4873a936",
   "metadata": {},
   "outputs": [
    {
     "name": "stderr",
     "output_type": "stream",
     "text": [
      "C:\\Users\\manoj\\AppData\\Local\\Temp\\ipykernel_10852\\3185645739.py:1: FutureWarning:\n",
      "\n",
      "The default value of regex will change from True to False in a future version.\n",
      "\n"
     ]
    },
    {
     "data": {
      "text/html": [
       "<div>\n",
       "<style scoped>\n",
       "    .dataframe tbody tr th:only-of-type {\n",
       "        vertical-align: middle;\n",
       "    }\n",
       "\n",
       "    .dataframe tbody tr th {\n",
       "        vertical-align: top;\n",
       "    }\n",
       "\n",
       "    .dataframe thead th {\n",
       "        text-align: right;\n",
       "    }\n",
       "</style>\n",
       "<table border=\"1\" class=\"dataframe\">\n",
       "  <thead>\n",
       "    <tr style=\"text-align: right;\">\n",
       "      <th></th>\n",
       "      <th>Label</th>\n",
       "      <th>Tweet</th>\n",
       "      <th>Tweet_PP</th>\n",
       "    </tr>\n",
       "  </thead>\n",
       "  <tbody>\n",
       "    <tr>\n",
       "      <th>0</th>\n",
       "      <td>0</td>\n",
       "      <td>@GlobalEdmonton Well that’s not going to cause...</td>\n",
       "      <td>Well that s not going to cause any problems  ...</td>\n",
       "    </tr>\n",
       "    <tr>\n",
       "      <th>1</th>\n",
       "      <td>1</td>\n",
       "      <td>To think I used to listen to Carly Rae Jepsen ...</td>\n",
       "      <td>To think I used to listen to Carly Rae Jepsen ...</td>\n",
       "    </tr>\n",
       "    <tr>\n",
       "      <th>2</th>\n",
       "      <td>0</td>\n",
       "      <td>Funny postcard, set of 4, \"Earth sucks. It's t...</td>\n",
       "      <td>Funny postcard  set of     Earth sucks  It s t...</td>\n",
       "    </tr>\n",
       "    <tr>\n",
       "      <th>3</th>\n",
       "      <td>1</td>\n",
       "      <td>@RachelRoseReid @maxdavie As a professional th...</td>\n",
       "      <td>As a professional this would really wind me ...</td>\n",
       "    </tr>\n",
       "    <tr>\n",
       "      <th>4</th>\n",
       "      <td>0</td>\n",
       "      <td>\"Oh, more than you could ever know,\" she repli...</td>\n",
       "      <td>Oh  more than you could ever know   she repli...</td>\n",
       "    </tr>\n",
       "  </tbody>\n",
       "</table>\n",
       "</div>"
      ],
      "text/plain": [
       "   Label                                              Tweet  \\\n",
       "0      0  @GlobalEdmonton Well that’s not going to cause...   \n",
       "1      1  To think I used to listen to Carly Rae Jepsen ...   \n",
       "2      0  Funny postcard, set of 4, \"Earth sucks. It's t...   \n",
       "3      1  @RachelRoseReid @maxdavie As a professional th...   \n",
       "4      0  \"Oh, more than you could ever know,\" she repli...   \n",
       "\n",
       "                                            Tweet_PP  \n",
       "0   Well that s not going to cause any problems  ...  \n",
       "1  To think I used to listen to Carly Rae Jepsen ...  \n",
       "2  Funny postcard  set of     Earth sucks  It s t...  \n",
       "3    As a professional this would really wind me ...  \n",
       "4   Oh  more than you could ever know   she repli...  "
      ]
     },
     "execution_count": 10,
     "metadata": {},
     "output_type": "execute_result"
    }
   ],
   "source": [
    "df['Tweet_PP'] = df['Tweet_PP'].str.replace(\"[^a-zA-Z#]\", \" \")\n",
    "df.head()"
   ]
  },
  {
   "cell_type": "code",
   "execution_count": 11,
   "id": "44cf3e29",
   "metadata": {},
   "outputs": [
    {
     "data": {
      "text/html": [
       "<div>\n",
       "<style scoped>\n",
       "    .dataframe tbody tr th:only-of-type {\n",
       "        vertical-align: middle;\n",
       "    }\n",
       "\n",
       "    .dataframe tbody tr th {\n",
       "        vertical-align: top;\n",
       "    }\n",
       "\n",
       "    .dataframe thead th {\n",
       "        text-align: right;\n",
       "    }\n",
       "</style>\n",
       "<table border=\"1\" class=\"dataframe\">\n",
       "  <thead>\n",
       "    <tr style=\"text-align: right;\">\n",
       "      <th></th>\n",
       "      <th>Label</th>\n",
       "      <th>Tweet</th>\n",
       "      <th>Tweet_PP</th>\n",
       "    </tr>\n",
       "  </thead>\n",
       "  <tbody>\n",
       "    <tr>\n",
       "      <th>0</th>\n",
       "      <td>0</td>\n",
       "      <td>@GlobalEdmonton Well that’s not going to cause...</td>\n",
       "      <td>Well that going cause problems #sarcasm</td>\n",
       "    </tr>\n",
       "    <tr>\n",
       "      <th>1</th>\n",
       "      <td>1</td>\n",
       "      <td>To think I used to listen to Carly Rae Jepsen ...</td>\n",
       "      <td>think used listen Carly Jepsen sarcastic manne...</td>\n",
       "    </tr>\n",
       "    <tr>\n",
       "      <th>2</th>\n",
       "      <td>0</td>\n",
       "      <td>Funny postcard, set of 4, \"Earth sucks. It's t...</td>\n",
       "      <td>Funny postcard Earth sucks peopley humorous po...</td>\n",
       "    </tr>\n",
       "    <tr>\n",
       "      <th>3</th>\n",
       "      <td>1</td>\n",
       "      <td>@RachelRoseReid @maxdavie As a professional th...</td>\n",
       "      <td>professional this would really wind polite sar...</td>\n",
       "    </tr>\n",
       "    <tr>\n",
       "      <th>4</th>\n",
       "      <td>0</td>\n",
       "      <td>\"Oh, more than you could ever know,\" she repli...</td>\n",
       "      <td>more than could ever know replied when asked w...</td>\n",
       "    </tr>\n",
       "  </tbody>\n",
       "</table>\n",
       "</div>"
      ],
      "text/plain": [
       "   Label                                              Tweet  \\\n",
       "0      0  @GlobalEdmonton Well that’s not going to cause...   \n",
       "1      1  To think I used to listen to Carly Rae Jepsen ...   \n",
       "2      0  Funny postcard, set of 4, \"Earth sucks. It's t...   \n",
       "3      1  @RachelRoseReid @maxdavie As a professional th...   \n",
       "4      0  \"Oh, more than you could ever know,\" she repli...   \n",
       "\n",
       "                                            Tweet_PP  \n",
       "0            Well that going cause problems #sarcasm  \n",
       "1  think used listen Carly Jepsen sarcastic manne...  \n",
       "2  Funny postcard Earth sucks peopley humorous po...  \n",
       "3  professional this would really wind polite sar...  \n",
       "4  more than could ever know replied when asked w...  "
      ]
     },
     "execution_count": 11,
     "metadata": {},
     "output_type": "execute_result"
    }
   ],
   "source": [
    "df['Tweet_PP'] = df['Tweet_PP'].apply(lambda x: ' '.join([w for w in x.split() if len(w)>3]))\n",
    "df.head()"
   ]
  },
  {
   "cell_type": "code",
   "execution_count": 12,
   "id": "f2a6ed6c",
   "metadata": {},
   "outputs": [
    {
     "data": {
      "text/plain": [
       "0       [Well, that, going, cause, problems, #sarcasm]\n",
       "1    [think, used, listen, Carly, Jepsen, sarcastic...\n",
       "2    [Funny, postcard, Earth, sucks, peopley, humor...\n",
       "3    [professional, this, would, really, wind, poli...\n",
       "4    [more, than, could, ever, know, replied, when,...\n",
       "Name: Tweet_PP, dtype: object"
      ]
     },
     "execution_count": 12,
     "metadata": {},
     "output_type": "execute_result"
    }
   ],
   "source": [
    "Tokens = df['Tweet_PP'].apply(lambda x: x.split()) # tokenizing\n",
    "Tokens.head()"
   ]
  },
  {
   "cell_type": "code",
   "execution_count": 13,
   "id": "bd34d5de",
   "metadata": {},
   "outputs": [],
   "source": [
    "from nltk.stem.porter import *\n",
    "stemmer = PorterStemmer()\n",
    "\n",
    "Tokens = Tokens.apply(lambda x: [stemmer.stem(i) for i in x]) # stemming"
   ]
  },
  {
   "cell_type": "code",
   "execution_count": 14,
   "id": "950cc537",
   "metadata": {},
   "outputs": [],
   "source": [
    "for i in range(len(Tokens)):\n",
    "    Tokens[i] = ' '.join(Tokens[i])\n",
    "    \n",
    "df['Tweet_PP'] = Tokens"
   ]
  },
  {
   "cell_type": "code",
   "execution_count": 15,
   "id": "0934ac73",
   "metadata": {},
   "outputs": [
    {
     "data": {
      "text/plain": [
       "0                   well that go caus problem #sarcasm\n",
       "1    think use listen carli jepsen sarcast manner m...\n",
       "2    funni postcard earth suck peopley humor postca...\n",
       "3    profession thi would realli wind polit sarcast...\n",
       "4    more than could ever know repli when ask what ...\n",
       "Name: Tweet_PP, dtype: object"
      ]
     },
     "execution_count": 15,
     "metadata": {},
     "output_type": "execute_result"
    }
   ],
   "source": [
    "df['Tweet_PP'].head()"
   ]
  },
  {
   "cell_type": "code",
   "execution_count": null,
   "id": "225a421c",
   "metadata": {},
   "outputs": [],
   "source": []
  },
  {
   "cell_type": "code",
   "execution_count": 16,
   "id": "bad6a7f8",
   "metadata": {},
   "outputs": [],
   "source": [
    "vocabulary_size = len(df['Tweet'])\n",
    "tokenizer = Tokenizer(num_words= vocabulary_size)\n",
    "tokenizer.fit_on_texts(df['Tweet_PP'])\n",
    "\n",
    "sequences = tokenizer.texts_to_sequences(df['Tweet_PP'])\n",
    "data = pad_sequences(sequences, maxlen=50)"
   ]
  },
  {
   "cell_type": "code",
   "execution_count": 17,
   "id": "69e32be9",
   "metadata": {},
   "outputs": [
    {
     "data": {
      "text/plain": [
       "(16486, 50)"
      ]
     },
     "execution_count": 17,
     "metadata": {},
     "output_type": "execute_result"
    }
   ],
   "source": [
    "data.shape"
   ]
  },
  {
   "cell_type": "code",
   "execution_count": null,
   "id": "4693cd6d",
   "metadata": {},
   "outputs": [],
   "source": []
  },
  {
   "cell_type": "code",
   "execution_count": null,
   "id": "de9807cf",
   "metadata": {},
   "outputs": [],
   "source": []
  },
  {
   "cell_type": "code",
   "execution_count": 18,
   "id": "af2c823b",
   "metadata": {},
   "outputs": [],
   "source": [
    "model_lstm = Sequential()\n",
    "model_lstm.add(Embedding(vocabulary_size, 100, input_length=50))\n",
    "model_lstm.add(LSTM(100, dropout=0.2, recurrent_dropout=0.2))\n",
    "model_lstm.add(Dense(1, activation='sigmoid'))\n",
    "model_lstm.compile(loss='binary_crossentropy', optimizer='adam', metrics=['accuracy'])"
   ]
  },
  {
   "cell_type": "code",
   "execution_count": 19,
   "id": "e2bf9bc4",
   "metadata": {},
   "outputs": [
    {
     "name": "stdout",
     "output_type": "stream",
     "text": [
      "Epoch 1/3\n",
      "361/361 [==============================] - 26s 57ms/step - loss: 0.2319 - accuracy: 0.9160 - val_loss: 0.1522 - val_accuracy: 0.9563\n",
      "Epoch 2/3\n",
      "361/361 [==============================] - 23s 64ms/step - loss: 0.1021 - accuracy: 0.9677 - val_loss: 0.1629 - val_accuracy: 0.9482\n",
      "Epoch 3/3\n",
      "361/361 [==============================] - 26s 73ms/step - loss: 0.0649 - accuracy: 0.9792 - val_loss: 0.1776 - val_accuracy: 0.9470\n"
     ]
    },
    {
     "data": {
      "text/plain": [
       "<keras.callbacks.History at 0x22a01ea4640>"
      ]
     },
     "execution_count": 19,
     "metadata": {},
     "output_type": "execute_result"
    }
   ],
   "source": [
    "model_lstm.fit(data, df['Label'], validation_split=0.3, epochs=3)"
   ]
  },
  {
   "cell_type": "code",
   "execution_count": null,
   "id": "fc903105",
   "metadata": {},
   "outputs": [],
   "source": []
  },
  {
   "cell_type": "code",
   "execution_count": 20,
   "id": "7b66868e",
   "metadata": {},
   "outputs": [],
   "source": [
    "def create_conv_model():\n",
    "    model_conv = Sequential()\n",
    "    model_conv.add(Embedding(vocabulary_size, 100, input_length=50))\n",
    "    model_conv.add(Dropout(0.2))\n",
    "    model_conv.add(Conv1D(64, 5, activation='relu'))\n",
    "    model_conv.add(MaxPooling1D(pool_size=4))\n",
    "    model_conv.add(LSTM(100))\n",
    "    model_conv.add(Dense(1, activation='sigmoid'))\n",
    "    model_conv.compile(loss='binary_crossentropy', optimizer='adam', metrics=['accuracy'])\n",
    "    return model_conv "
   ]
  },
  {
   "cell_type": "code",
   "execution_count": 21,
   "id": "b73e938a",
   "metadata": {},
   "outputs": [
    {
     "name": "stdout",
     "output_type": "stream",
     "text": [
      "Epoch 1/3\n",
      "361/361 [==============================] - 14s 30ms/step - loss: 0.3912 - accuracy: 0.8133 - val_loss: 0.3290 - val_accuracy: 0.8534\n",
      "Epoch 2/3\n",
      "361/361 [==============================] - 10s 28ms/step - loss: 0.2270 - accuracy: 0.9036 - val_loss: 0.3454 - val_accuracy: 0.8451\n",
      "Epoch 3/3\n",
      "361/361 [==============================] - 10s 29ms/step - loss: 0.1469 - accuracy: 0.9391 - val_loss: 0.4028 - val_accuracy: 0.8415\n"
     ]
    },
    {
     "data": {
      "text/plain": [
       "<keras.callbacks.History at 0x22a02f88f70>"
      ]
     },
     "execution_count": 21,
     "metadata": {},
     "output_type": "execute_result"
    }
   ],
   "source": [
    "model_conv = create_conv_model()\n",
    "model_conv.fit(data, df['Label'], validation_split=0.3, epochs = 3)"
   ]
  },
  {
   "cell_type": "code",
   "execution_count": null,
   "id": "ac3763ae",
   "metadata": {},
   "outputs": [],
   "source": []
  },
  {
   "cell_type": "code",
   "execution_count": null,
   "id": "0ef23f5c",
   "metadata": {},
   "outputs": [],
   "source": []
  },
  {
   "cell_type": "code",
   "execution_count": 22,
   "id": "f27a17b1",
   "metadata": {},
   "outputs": [
    {
     "name": "stdout",
     "output_type": "stream",
     "text": [
      "Loaded 400000 word vectors.\n"
     ]
    }
   ],
   "source": [
    "embeddings_index = dict()\n",
    "f = open('glove.6B.100d.txt', encoding=\"utf8\")\n",
    "for line in f:\n",
    "    values = line.split()\n",
    "    word = values[0]\n",
    "    coefs = np.asarray(values[1:], dtype='float32')\n",
    "    embeddings_index[word] = coefs\n",
    "f.close()\n",
    "print('Loaded %s word vectors.' % len(embeddings_index))"
   ]
  },
  {
   "cell_type": "code",
   "execution_count": 23,
   "id": "485f97e0",
   "metadata": {},
   "outputs": [],
   "source": [
    "# create a weight matrix for words in training docs\n",
    "embedding_matrix = np.zeros((vocabulary_size, 100))\n",
    "for word, index in tokenizer.word_index.items():\n",
    "    if index > vocabulary_size - 1:\n",
    "        break\n",
    "    else:\n",
    "        embedding_vector = embeddings_index.get(word)\n",
    "        if embedding_vector is not None:\n",
    "            embedding_matrix[index] = embedding_vector"
   ]
  },
  {
   "cell_type": "code",
   "execution_count": null,
   "id": "95c9b835",
   "metadata": {},
   "outputs": [],
   "source": []
  },
  {
   "cell_type": "code",
   "execution_count": 24,
   "id": "3a88c213",
   "metadata": {},
   "outputs": [],
   "source": [
    "model_glove = Sequential()\n",
    "model_glove.add(Embedding(vocabulary_size, 100, input_length=50, weights=[embedding_matrix], trainable=False))\n",
    "model_glove.add(Dropout(0.2))\n",
    "model_glove.add(Conv1D(64, 5, activation='relu'))\n",
    "model_glove.add(MaxPooling1D(pool_size=4))\n",
    "model_glove.add(LSTM(100))\n",
    "model_glove.add(Dense(1, activation='sigmoid'))\n",
    "model_glove.compile(loss='binary_crossentropy', optimizer='adam', metrics=['accuracy'])"
   ]
  },
  {
   "cell_type": "code",
   "execution_count": 25,
   "id": "5983d451",
   "metadata": {},
   "outputs": [
    {
     "name": "stdout",
     "output_type": "stream",
     "text": [
      "Epoch 1/3\n",
      "361/361 [==============================] - 8s 14ms/step - loss: 0.5351 - accuracy: 0.7176 - val_loss: 0.5417 - val_accuracy: 0.7064\n",
      "Epoch 2/3\n",
      "361/361 [==============================] - 5s 13ms/step - loss: 0.4619 - accuracy: 0.7742 - val_loss: 0.5105 - val_accuracy: 0.7396\n",
      "Epoch 3/3\n",
      "361/361 [==============================] - 5s 15ms/step - loss: 0.4226 - accuracy: 0.7943 - val_loss: 0.5536 - val_accuracy: 0.7111\n"
     ]
    },
    {
     "data": {
      "text/plain": [
       "<keras.callbacks.History at 0x22a172fbbe0>"
      ]
     },
     "execution_count": 25,
     "metadata": {},
     "output_type": "execute_result"
    }
   ],
   "source": [
    "model_glove.fit(data, df['Label'], validation_split=0.3, epochs = 3)"
   ]
  },
  {
   "cell_type": "code",
   "execution_count": null,
   "id": "545664d2",
   "metadata": {},
   "outputs": [],
   "source": []
  },
  {
   "cell_type": "code",
   "execution_count": 26,
   "id": "9ba88cba",
   "metadata": {},
   "outputs": [],
   "source": [
    "lstm_embds = model_lstm.layers[0].get_weights()[0]"
   ]
  },
  {
   "cell_type": "code",
   "execution_count": 28,
   "id": "e7e28290",
   "metadata": {},
   "outputs": [
    {
     "data": {
      "text/html": [
       "<div>\n",
       "<style scoped>\n",
       "    .dataframe tbody tr th:only-of-type {\n",
       "        vertical-align: middle;\n",
       "    }\n",
       "\n",
       "    .dataframe tbody tr th {\n",
       "        vertical-align: top;\n",
       "    }\n",
       "\n",
       "    .dataframe thead th {\n",
       "        text-align: right;\n",
       "    }\n",
       "</style>\n",
       "<table border=\"1\" class=\"dataframe\">\n",
       "  <thead>\n",
       "    <tr style=\"text-align: right;\">\n",
       "      <th></th>\n",
       "      <th>0</th>\n",
       "      <th>1</th>\n",
       "      <th>Label</th>\n",
       "    </tr>\n",
       "  </thead>\n",
       "  <tbody>\n",
       "    <tr>\n",
       "      <th>0</th>\n",
       "      <td>0.179673</td>\n",
       "      <td>0.163414</td>\n",
       "      <td>0</td>\n",
       "    </tr>\n",
       "    <tr>\n",
       "      <th>1</th>\n",
       "      <td>0.978540</td>\n",
       "      <td>0.442109</td>\n",
       "      <td>1</td>\n",
       "    </tr>\n",
       "    <tr>\n",
       "      <th>2</th>\n",
       "      <td>-0.733178</td>\n",
       "      <td>0.580477</td>\n",
       "      <td>0</td>\n",
       "    </tr>\n",
       "    <tr>\n",
       "      <th>3</th>\n",
       "      <td>-0.324409</td>\n",
       "      <td>-0.167928</td>\n",
       "      <td>1</td>\n",
       "    </tr>\n",
       "    <tr>\n",
       "      <th>4</th>\n",
       "      <td>0.263216</td>\n",
       "      <td>-0.029452</td>\n",
       "      <td>0</td>\n",
       "    </tr>\n",
       "    <tr>\n",
       "      <th>...</th>\n",
       "      <td>...</td>\n",
       "      <td>...</td>\n",
       "      <td>...</td>\n",
       "    </tr>\n",
       "    <tr>\n",
       "      <th>16481</th>\n",
       "      <td>-0.178823</td>\n",
       "      <td>-0.108866</td>\n",
       "      <td>1</td>\n",
       "    </tr>\n",
       "    <tr>\n",
       "      <th>16482</th>\n",
       "      <td>-0.154801</td>\n",
       "      <td>-0.003742</td>\n",
       "      <td>1</td>\n",
       "    </tr>\n",
       "    <tr>\n",
       "      <th>16483</th>\n",
       "      <td>-0.167298</td>\n",
       "      <td>-0.043466</td>\n",
       "      <td>0</td>\n",
       "    </tr>\n",
       "    <tr>\n",
       "      <th>16484</th>\n",
       "      <td>-0.145091</td>\n",
       "      <td>0.026605</td>\n",
       "      <td>0</td>\n",
       "    </tr>\n",
       "    <tr>\n",
       "      <th>16485</th>\n",
       "      <td>-0.252549</td>\n",
       "      <td>0.101591</td>\n",
       "      <td>1</td>\n",
       "    </tr>\n",
       "  </tbody>\n",
       "</table>\n",
       "<p>16486 rows × 3 columns</p>\n",
       "</div>"
      ],
      "text/plain": [
       "              0         1  Label\n",
       "0      0.179673  0.163414      0\n",
       "1      0.978540  0.442109      1\n",
       "2     -0.733178  0.580477      0\n",
       "3     -0.324409 -0.167928      1\n",
       "4      0.263216 -0.029452      0\n",
       "...         ...       ...    ...\n",
       "16481 -0.178823 -0.108866      1\n",
       "16482 -0.154801 -0.003742      1\n",
       "16483 -0.167298 -0.043466      0\n",
       "16484 -0.145091  0.026605      0\n",
       "16485 -0.252549  0.101591      1\n",
       "\n",
       "[16486 rows x 3 columns]"
      ]
     },
     "execution_count": 28,
     "metadata": {},
     "output_type": "execute_result"
    }
   ],
   "source": [
    "from sklearn.decomposition import PCA\n",
    "pca = PCA(n_components = 2)\n",
    "principalComponents = pca.fit_transform(lstm_embds)\n",
    "principalDf = pd.DataFrame(data = principalComponents)\n",
    "finalDf = pd.concat([principalDf, df[['Label']]], axis = 1)\n",
    "finalDf"
   ]
  },
  {
   "cell_type": "code",
   "execution_count": 29,
   "id": "167bea7e",
   "metadata": {},
   "outputs": [],
   "source": [
    "X = finalDf.drop('Label',axis=1).values\n",
    "Y = finalDf['Label'].values"
   ]
  },
  {
   "cell_type": "code",
   "execution_count": 30,
   "id": "fe6a1347",
   "metadata": {},
   "outputs": [],
   "source": [
    "from sklearn.model_selection import train_test_split\n",
    "X_train, X_test, y_train, y_test = train_test_split(X,Y, test_size=0.3,random_state=0)"
   ]
  },
  {
   "cell_type": "code",
   "execution_count": 31,
   "id": "0fc364a6",
   "metadata": {},
   "outputs": [
    {
     "name": "stdout",
     "output_type": "stream",
     "text": [
      "              precision    recall  f1-score   support\n",
      "\n",
      "           0       0.55      1.00      0.71      2705\n",
      "           1       0.80      0.00      0.00      2241\n",
      "\n",
      "    accuracy                           0.55      4946\n",
      "   macro avg       0.67      0.50      0.36      4946\n",
      "weighted avg       0.66      0.55      0.39      4946\n",
      "\n",
      "[[2704    1]\n",
      " [2237    4]]\n",
      "accuracy is 0.547513141932875\n"
     ]
    }
   ],
   "source": [
    "from sklearn.metrics import confusion_matrix\n",
    "from sklearn.metrics import classification_report\n",
    "\n",
    "# Gaussian Naive Bayes\n",
    "from sklearn.naive_bayes import GaussianNB\n",
    "classifier = GaussianNB()\n",
    "classifier.fit(X_train, y_train)\n",
    "\n",
    "y_pred = classifier.predict(X_test)\n",
    "\n",
    "# Summary of the predictions made by the classifier\n",
    "print(classification_report(y_test, y_pred))\n",
    "print(confusion_matrix(y_test, y_pred))\n",
    "# Accuracy score\n",
    "from sklearn.metrics import accuracy_score\n",
    "print('accuracy is',accuracy_score(y_pred,y_test))"
   ]
  },
  {
   "cell_type": "code",
   "execution_count": 32,
   "id": "d7779795",
   "metadata": {},
   "outputs": [
    {
     "name": "stdout",
     "output_type": "stream",
     "text": [
      "              precision    recall  f1-score   support\n",
      "\n",
      "           0       0.55      1.00      0.71      2705\n",
      "           1       0.50      0.00      0.01      2241\n",
      "\n",
      "    accuracy                           0.55      4946\n",
      "   macro avg       0.52      0.50      0.36      4946\n",
      "weighted avg       0.53      0.55      0.39      4946\n",
      "\n",
      "[[2698    7]\n",
      " [2234    7]]\n",
      "accuracy is 0.5469065911847958\n"
     ]
    }
   ],
   "source": [
    "from sklearn.svm import SVC\n",
    "\n",
    "classifier = SVC()\n",
    "classifier.fit(X_train, y_train)\n",
    "\n",
    "y_pred = classifier.predict(X_test)\n",
    "\n",
    "# Summary of the predictions made by the classifier\n",
    "print(classification_report(y_test, y_pred))\n",
    "print(confusion_matrix(y_test, y_pred))\n",
    "# Accuracy score\n",
    "from sklearn.metrics import accuracy_score\n",
    "print('accuracy is',accuracy_score(y_pred,y_test))"
   ]
  },
  {
   "cell_type": "code",
   "execution_count": 33,
   "id": "05c9f139",
   "metadata": {},
   "outputs": [
    {
     "data": {
      "image/png": "[encoded data removed]",
      "text/plain": [
       "<Figure size 432x288 with 1 Axes>"
      ]
     },
     "metadata": {
      "needs_background": "light"
     },
     "output_type": "display_data"
    }
   ],
   "source": [
    "import matplotlib.pyplot as plt \n",
    "from sklearn.cluster import KMeans\n",
    "wcss = []\n",
    "for i in range(1,11):\n",
    "    kmeans = KMeans(n_clusters=i,init='k-means++',max_iter=300,n_init=10,random_state=0)\n",
    "    kmeans.fit(X)\n",
    "    wcss.append(kmeans.inertia_)\n",
    "\n",
    "plt.plot(range(1,11),wcss)\n",
    "plt.title('the elbow method')\n",
    "plt.xlabel('Number of Clusters')\n",
    "plt.ylabel('Wcss')\n",
    "plt.show()"
   ]
  },
  {
   "cell_type": "code",
   "execution_count": 34,
   "id": "12b1c498",
   "metadata": {},
   "outputs": [
    {
     "name": "stdout",
     "output_type": "stream",
     "text": [
      "0.42622826\n"
     ]
    }
   ],
   "source": [
    "#  Calculate the silhouette score for the above clustering\n",
    "\n",
    "nclusters = 3  # this is the k in kmeans\n",
    "km = KMeans(n_clusters=nclusters)\n",
    "km.fit(X)\n",
    "\n",
    "y_cluster_kmeans = km.predict(X)\n",
    "from sklearn import metrics\n",
    "score = metrics.silhouette_score(X, y_cluster_kmeans)\n",
    "print(score)"
   ]
  },
  {
   "cell_type": "code",
   "execution_count": null,
   "id": "2fe26919",
   "metadata": {},
   "outputs": [],
   "source": []
  },
  {
   "cell_type": "code",
   "execution_count": 35,
   "id": "f9de1a4a",
   "metadata": {},
   "outputs": [],
   "source": [
    "conv_embds = model_conv.layers[0].get_weights()[0]"
   ]
  },
  {
   "cell_type": "code",
   "execution_count": 36,
   "id": "a2c9ae17",
   "metadata": {},
   "outputs": [
    {
     "data": {
      "text/html": [
       "<div>\n",
       "<style scoped>\n",
       "    .dataframe tbody tr th:only-of-type {\n",
       "        vertical-align: middle;\n",
       "    }\n",
       "\n",
       "    .dataframe tbody tr th {\n",
       "        vertical-align: top;\n",
       "    }\n",
       "\n",
       "    .dataframe thead th {\n",
       "        text-align: right;\n",
       "    }\n",
       "</style>\n",
       "<table border=\"1\" class=\"dataframe\">\n",
       "  <thead>\n",
       "    <tr style=\"text-align: right;\">\n",
       "      <th></th>\n",
       "      <th>0</th>\n",
       "      <th>1</th>\n",
       "      <th>Label</th>\n",
       "    </tr>\n",
       "  </thead>\n",
       "  <tbody>\n",
       "    <tr>\n",
       "      <th>0</th>\n",
       "      <td>0.081021</td>\n",
       "      <td>-0.073713</td>\n",
       "      <td>0</td>\n",
       "    </tr>\n",
       "    <tr>\n",
       "      <th>1</th>\n",
       "      <td>0.942296</td>\n",
       "      <td>0.263389</td>\n",
       "      <td>1</td>\n",
       "    </tr>\n",
       "    <tr>\n",
       "      <th>2</th>\n",
       "      <td>0.028877</td>\n",
       "      <td>0.352903</td>\n",
       "      <td>0</td>\n",
       "    </tr>\n",
       "    <tr>\n",
       "      <th>3</th>\n",
       "      <td>-0.427108</td>\n",
       "      <td>-0.181169</td>\n",
       "      <td>1</td>\n",
       "    </tr>\n",
       "    <tr>\n",
       "      <th>4</th>\n",
       "      <td>0.131485</td>\n",
       "      <td>0.003306</td>\n",
       "      <td>0</td>\n",
       "    </tr>\n",
       "    <tr>\n",
       "      <th>...</th>\n",
       "      <td>...</td>\n",
       "      <td>...</td>\n",
       "      <td>...</td>\n",
       "    </tr>\n",
       "    <tr>\n",
       "      <th>16481</th>\n",
       "      <td>-0.175337</td>\n",
       "      <td>-0.054174</td>\n",
       "      <td>1</td>\n",
       "    </tr>\n",
       "    <tr>\n",
       "      <th>16482</th>\n",
       "      <td>-0.223237</td>\n",
       "      <td>0.083555</td>\n",
       "      <td>1</td>\n",
       "    </tr>\n",
       "    <tr>\n",
       "      <th>16483</th>\n",
       "      <td>-0.179023</td>\n",
       "      <td>0.145715</td>\n",
       "      <td>0</td>\n",
       "    </tr>\n",
       "    <tr>\n",
       "      <th>16484</th>\n",
       "      <td>0.100608</td>\n",
       "      <td>-0.044347</td>\n",
       "      <td>0</td>\n",
       "    </tr>\n",
       "    <tr>\n",
       "      <th>16485</th>\n",
       "      <td>-0.152885</td>\n",
       "      <td>0.132852</td>\n",
       "      <td>1</td>\n",
       "    </tr>\n",
       "  </tbody>\n",
       "</table>\n",
       "<p>16486 rows × 3 columns</p>\n",
       "</div>"
      ],
      "text/plain": [
       "              0         1  Label\n",
       "0      0.081021 -0.073713      0\n",
       "1      0.942296  0.263389      1\n",
       "2      0.028877  0.352903      0\n",
       "3     -0.427108 -0.181169      1\n",
       "4      0.131485  0.003306      0\n",
       "...         ...       ...    ...\n",
       "16481 -0.175337 -0.054174      1\n",
       "16482 -0.223237  0.083555      1\n",
       "16483 -0.179023  0.145715      0\n",
       "16484  0.100608 -0.044347      0\n",
       "16485 -0.152885  0.132852      1\n",
       "\n",
       "[16486 rows x 3 columns]"
      ]
     },
     "execution_count": 36,
     "metadata": {},
     "output_type": "execute_result"
    }
   ],
   "source": [
    "from sklearn.decomposition import PCA\n",
    "pca2 = PCA(n_components=2)\n",
    "principalComponents2 = pca2.fit_transform(conv_embds)\n",
    "principalDf2 = pd.DataFrame(data = principalComponents2)\n",
    "finalDf2 = pd.concat([principalDf2, df[['Label']]], axis = 1)\n",
    "finalDf2"
   ]
  },
  {
   "cell_type": "code",
   "execution_count": 37,
   "id": "7fbfce20",
   "metadata": {},
   "outputs": [],
   "source": [
    "X = finalDf2.drop('Label',axis=1).values\n",
    "Y = finalDf2['Label'].values\n",
    "\n",
    "from sklearn.model_selection import train_test_split\n",
    "X_train, X_test, y_train, y_test = train_test_split(X,Y, test_size=0.3,random_state=0)"
   ]
  },
  {
   "cell_type": "code",
   "execution_count": 38,
   "id": "7eea7a2c",
   "metadata": {},
   "outputs": [
    {
     "name": "stdout",
     "output_type": "stream",
     "text": [
      "              precision    recall  f1-score   support\n",
      "\n",
      "           0       0.55      0.99      0.71      2705\n",
      "           1       0.53      0.02      0.03      2241\n",
      "\n",
      "    accuracy                           0.55      4946\n",
      "   macro avg       0.54      0.50      0.37      4946\n",
      "weighted avg       0.54      0.55      0.40      4946\n",
      "\n",
      "[[2675   30]\n",
      " [2207   34]]\n",
      "accuracy is 0.5477153255155681\n"
     ]
    }
   ],
   "source": [
    "from sklearn.metrics import confusion_matrix\n",
    "from sklearn.metrics import classification_report\n",
    "\n",
    "# Gaussian Naive Bayes\n",
    "from sklearn.naive_bayes import GaussianNB\n",
    "classifier = GaussianNB()\n",
    "classifier.fit(X_train, y_train)\n",
    "\n",
    "y_pred = classifier.predict(X_test)\n",
    "\n",
    "# Summary of the predictions made by the classifier\n",
    "print(classification_report(y_test, y_pred))\n",
    "print(confusion_matrix(y_test, y_pred))\n",
    "# Accuracy score\n",
    "from sklearn.metrics import accuracy_score\n",
    "print('accuracy is',accuracy_score(y_pred,y_test))"
   ]
  },
  {
   "cell_type": "code",
   "execution_count": 39,
   "id": "a1b705c3",
   "metadata": {},
   "outputs": [
    {
     "name": "stdout",
     "output_type": "stream",
     "text": [
      "              precision    recall  f1-score   support\n",
      "\n",
      "           0       0.55      1.00      0.71      2705\n",
      "           1       0.50      0.00      0.00      2241\n",
      "\n",
      "    accuracy                           0.55      4946\n",
      "   macro avg       0.52      0.50      0.36      4946\n",
      "weighted avg       0.53      0.55      0.39      4946\n",
      "\n",
      "[[2700    5]\n",
      " [2236    5]]\n",
      "accuracy is 0.5469065911847958\n"
     ]
    }
   ],
   "source": [
    "from sklearn.svm import SVC\n",
    "\n",
    "classifier = SVC()\n",
    "classifier.fit(X_train, y_train)\n",
    "\n",
    "y_pred = classifier.predict(X_test)\n",
    "\n",
    "# Summary of the predictions made by the classifier\n",
    "print(classification_report(y_test, y_pred))\n",
    "print(confusion_matrix(y_test, y_pred))\n",
    "# Accuracy score\n",
    "from sklearn.metrics import accuracy_score\n",
    "print('accuracy is',accuracy_score(y_pred,y_test))"
   ]
  },
  {
   "cell_type": "code",
   "execution_count": 40,
   "id": "dc85203d",
   "metadata": {},
   "outputs": [
    {
     "data": {
      "image/png": "[encoded data removed]",
      "text/plain": [
       "<Figure size 432x288 with 1 Axes>"
      ]
     },
     "metadata": {
      "needs_background": "light"
     },
     "output_type": "display_data"
    }
   ],
   "source": [
    "import matplotlib.pyplot as plt \n",
    "from sklearn.cluster import KMeans\n",
    "wcss = []\n",
    "for i in range(1,11):\n",
    "    kmeans = KMeans(n_clusters=i,init='k-means++',max_iter=300,n_init=10,random_state=0)\n",
    "    kmeans.fit(X)\n",
    "    wcss.append(kmeans.inertia_)\n",
    "\n",
    "plt.plot(range(1,11),wcss)\n",
    "plt.title('the elbow method')\n",
    "plt.xlabel('Number of Clusters')\n",
    "plt.ylabel('Wcss')\n",
    "plt.show()"
   ]
  },
  {
   "cell_type": "code",
   "execution_count": 41,
   "id": "2f00a198",
   "metadata": {},
   "outputs": [
    {
     "name": "stdout",
     "output_type": "stream",
     "text": [
      "0.43765166\n"
     ]
    }
   ],
   "source": [
    "nclusters = 3  # this is the k in kmeans\n",
    "km = KMeans(n_clusters=nclusters)\n",
    "km.fit(X)\n",
    "\n",
    "y_cluster_kmeans = km.predict(X)\n",
    "from sklearn import metrics\n",
    "score = metrics.silhouette_score(X, y_cluster_kmeans)\n",
    "print(score)"
   ]
  },
  {
   "cell_type": "code",
   "execution_count": null,
   "id": "99317df9",
   "metadata": {},
   "outputs": [],
   "source": []
  },
  {
   "cell_type": "code",
   "execution_count": 42,
   "id": "10037b56",
   "metadata": {},
   "outputs": [],
   "source": [
    "glove_emds = model_glove.layers[0].get_weights()[0]"
   ]
  },
  {
   "cell_type": "code",
   "execution_count": 43,
   "id": "2e262de5",
   "metadata": {},
   "outputs": [
    {
     "data": {
      "text/html": [
       "<div>\n",
       "<style scoped>\n",
       "    .dataframe tbody tr th:only-of-type {\n",
       "        vertical-align: middle;\n",
       "    }\n",
       "\n",
       "    .dataframe tbody tr th {\n",
       "        vertical-align: top;\n",
       "    }\n",
       "\n",
       "    .dataframe thead th {\n",
       "        text-align: right;\n",
       "    }\n",
       "</style>\n",
       "<table border=\"1\" class=\"dataframe\">\n",
       "  <thead>\n",
       "    <tr style=\"text-align: right;\">\n",
       "      <th></th>\n",
       "      <th>0</th>\n",
       "      <th>1</th>\n",
       "      <th>Label</th>\n",
       "    </tr>\n",
       "  </thead>\n",
       "  <tbody>\n",
       "    <tr>\n",
       "      <th>0</th>\n",
       "      <td>-0.352836</td>\n",
       "      <td>0.148440</td>\n",
       "      <td>0</td>\n",
       "    </tr>\n",
       "    <tr>\n",
       "      <th>1</th>\n",
       "      <td>-0.352829</td>\n",
       "      <td>0.148420</td>\n",
       "      <td>1</td>\n",
       "    </tr>\n",
       "    <tr>\n",
       "      <th>2</th>\n",
       "      <td>-0.161985</td>\n",
       "      <td>-1.785421</td>\n",
       "      <td>0</td>\n",
       "    </tr>\n",
       "    <tr>\n",
       "      <th>3</th>\n",
       "      <td>-0.040225</td>\n",
       "      <td>-0.932835</td>\n",
       "      <td>1</td>\n",
       "    </tr>\n",
       "    <tr>\n",
       "      <th>4</th>\n",
       "      <td>4.922252</td>\n",
       "      <td>-0.312138</td>\n",
       "      <td>0</td>\n",
       "    </tr>\n",
       "    <tr>\n",
       "      <th>...</th>\n",
       "      <td>...</td>\n",
       "      <td>...</td>\n",
       "      <td>...</td>\n",
       "    </tr>\n",
       "    <tr>\n",
       "      <th>16481</th>\n",
       "      <td>-0.352829</td>\n",
       "      <td>0.148441</td>\n",
       "      <td>1</td>\n",
       "    </tr>\n",
       "    <tr>\n",
       "      <th>16482</th>\n",
       "      <td>-0.352829</td>\n",
       "      <td>0.148441</td>\n",
       "      <td>1</td>\n",
       "    </tr>\n",
       "    <tr>\n",
       "      <th>16483</th>\n",
       "      <td>-0.352829</td>\n",
       "      <td>0.148441</td>\n",
       "      <td>0</td>\n",
       "    </tr>\n",
       "    <tr>\n",
       "      <th>16484</th>\n",
       "      <td>-0.352829</td>\n",
       "      <td>0.148441</td>\n",
       "      <td>0</td>\n",
       "    </tr>\n",
       "    <tr>\n",
       "      <th>16485</th>\n",
       "      <td>-0.352829</td>\n",
       "      <td>0.148441</td>\n",
       "      <td>1</td>\n",
       "    </tr>\n",
       "  </tbody>\n",
       "</table>\n",
       "<p>16486 rows × 3 columns</p>\n",
       "</div>"
      ],
      "text/plain": [
       "              0         1  Label\n",
       "0     -0.352836  0.148440      0\n",
       "1     -0.352829  0.148420      1\n",
       "2     -0.161985 -1.785421      0\n",
       "3     -0.040225 -0.932835      1\n",
       "4      4.922252 -0.312138      0\n",
       "...         ...       ...    ...\n",
       "16481 -0.352829  0.148441      1\n",
       "16482 -0.352829  0.148441      1\n",
       "16483 -0.352829  0.148441      0\n",
       "16484 -0.352829  0.148441      0\n",
       "16485 -0.352829  0.148441      1\n",
       "\n",
       "[16486 rows x 3 columns]"
      ]
     },
     "execution_count": 43,
     "metadata": {},
     "output_type": "execute_result"
    }
   ],
   "source": [
    "from sklearn.decomposition import PCA\n",
    "pca3 = PCA(n_components=2)\n",
    "principalComponents3 = pca3.fit_transform(glove_emds)\n",
    "principalDf3 = pd.DataFrame(data = principalComponents3)\n",
    "finalDf3 = pd.concat([principalDf3, df[['Label']]], axis = 1)\n",
    "finalDf3"
   ]
  },
  {
   "cell_type": "code",
   "execution_count": 44,
   "id": "aee45d3f",
   "metadata": {},
   "outputs": [],
   "source": [
    "X = finalDf3.drop('Label',axis=1).values\n",
    "Y = finalDf3['Label'].values\n",
    "\n",
    "from sklearn.model_selection import train_test_split\n",
    "X_train, X_test, y_train, y_test = train_test_split(X,Y, test_size=0.3,random_state=0)"
   ]
  },
  {
   "cell_type": "code",
   "execution_count": 45,
   "id": "b30b0d3c",
   "metadata": {},
   "outputs": [
    {
     "name": "stdout",
     "output_type": "stream",
     "text": [
      "              precision    recall  f1-score   support\n",
      "\n",
      "           0       0.55      0.95      0.70      2705\n",
      "           1       0.50      0.06      0.10      2241\n",
      "\n",
      "    accuracy                           0.55      4946\n",
      "   macro avg       0.53      0.51      0.40      4946\n",
      "weighted avg       0.53      0.55      0.43      4946\n",
      "\n",
      "[[2581  124]\n",
      " [2115  126]]\n",
      "accuracy is 0.547310958350182\n"
     ]
    }
   ],
   "source": [
    "from sklearn.metrics import confusion_matrix\n",
    "from sklearn.metrics import classification_report\n",
    "\n",
    "# Gaussian Naive Bayes\n",
    "from sklearn.naive_bayes import GaussianNB\n",
    "classifier = GaussianNB()\n",
    "classifier.fit(X_train, y_train)\n",
    "\n",
    "y_pred = classifier.predict(X_test)\n",
    "\n",
    "# Summary of the predictions made by the classifier\n",
    "print(classification_report(y_test, y_pred))\n",
    "print(confusion_matrix(y_test, y_pred))\n",
    "# Accuracy score\n",
    "from sklearn.metrics import accuracy_score\n",
    "print('accuracy is',accuracy_score(y_pred,y_test))"
   ]
  },
  {
   "cell_type": "code",
   "execution_count": 46,
   "id": "3e60b004",
   "metadata": {},
   "outputs": [
    {
     "name": "stdout",
     "output_type": "stream",
     "text": [
      "              precision    recall  f1-score   support\n",
      "\n",
      "           0       0.55      0.99      0.71      2705\n",
      "           1       0.56      0.01      0.02      2241\n",
      "\n",
      "    accuracy                           0.55      4946\n",
      "   macro avg       0.55      0.50      0.36      4946\n",
      "weighted avg       0.55      0.55      0.39      4946\n",
      "\n",
      "[[2690   15]\n",
      " [2222   19]]\n",
      "accuracy is 0.5477153255155681\n"
     ]
    }
   ],
   "source": [
    "from sklearn.svm import SVC\n",
    "\n",
    "classifier = SVC()\n",
    "classifier.fit(X_train, y_train)\n",
    "\n",
    "y_pred = classifier.predict(X_test)\n",
    "\n",
    "# Summary of the predictions made by the classifier\n",
    "print(classification_report(y_test, y_pred))\n",
    "print(confusion_matrix(y_test, y_pred))\n",
    "# Accuracy score\n",
    "from sklearn.metrics import accuracy_score\n",
    "print('accuracy is',accuracy_score(y_pred,y_test))"
   ]
  },
  {
   "cell_type": "code",
   "execution_count": 47,
   "id": "945cb589",
   "metadata": {},
   "outputs": [
    {
     "name": "stdout",
     "output_type": "stream",
     "text": [
      "0.64388\n"
     ]
    }
   ],
   "source": [
    "nclusters = 3  # this is the k in kmeans\n",
    "km = KMeans(n_clusters=nclusters)\n",
    "km.fit(X)\n",
    "\n",
    "y_cluster_kmeans = km.predict(X)\n",
    "from sklearn import metrics\n",
    "score = metrics.silhouette_score(X, y_cluster_kmeans)\n",
    "print(score)"
   ]
  },
  {
   "cell_type": "code",
   "execution_count": null,
   "id": "86449639",
   "metadata": {},
   "outputs": [],
   "source": []
  },
  {
   "cell_type": "code",
   "execution_count": 48,
   "id": "983356f6",
   "metadata": {},
   "outputs": [],
   "source": [
    "from gensim.models import Word2Vec"
   ]
  },
  {
   "cell_type": "code",
   "execution_count": 49,
   "id": "55a09c8c",
   "metadata": {},
   "outputs": [
    {
     "data": {
      "text/plain": [
       "0            [well, that, go, caus, problem, #sarcasm]\n",
       "1    [think, use, listen, carli, jepsen, sarcast, m...\n",
       "2    [funni, postcard, earth, suck, peopley, humor,...\n",
       "3    [profession, thi, would, realli, wind, polit, ...\n",
       "4    [more, than, could, ever, know, repli, when, a...\n",
       "Name: Tweet_PP, dtype: object"
      ]
     },
     "execution_count": 49,
     "metadata": {},
     "output_type": "execute_result"
    }
   ],
   "source": [
    "Tokens = df['Tweet_PP'].apply(lambda x: x.split()) # tokenizing\n",
    "Tokens.head()"
   ]
  },
  {
   "cell_type": "code",
   "execution_count": 50,
   "id": "81840835",
   "metadata": {},
   "outputs": [
    {
     "data": {
      "text/plain": [
       "(2957601, 4145440)"
      ]
     },
     "execution_count": 50,
     "metadata": {},
     "output_type": "execute_result"
    }
   ],
   "source": [
    "model = Word2Vec(Tokens, vector_size=128,  window=5, sg=1)\n",
    "\n",
    "model.train(Tokens, total_examples= len(df['Tweet_PP']), epochs=20)"
   ]
  },
  {
   "cell_type": "code",
   "execution_count": 51,
   "id": "587f7d83",
   "metadata": {},
   "outputs": [],
   "source": [
    "def word_vector(tokens, size):\n",
    "    vec = np.zeros(size).reshape((1, size))\n",
    "    count = 0.\n",
    "    for word in tokens:\n",
    "        try:\n",
    "            vec += model.wv[word].reshape((1, size))\n",
    "            count += 1.\n",
    "        except KeyError: # handling the case where the token is not in vocabulary\n",
    "                         \n",
    "            continue\n",
    "    if count != 0:\n",
    "        vec /= count\n",
    "    return vec"
   ]
  },
  {
   "cell_type": "code",
   "execution_count": 52,
   "id": "6906feb8",
   "metadata": {},
   "outputs": [
    {
     "data": {
      "text/plain": [
       "(16486, 128)"
      ]
     },
     "execution_count": 52,
     "metadata": {},
     "output_type": "execute_result"
    }
   ],
   "source": [
    "wordvec = np.zeros((len(Tokens), 128))\n",
    "\n",
    "for i in range(len(Tokens)):\n",
    "    wordvec[i,:] = word_vector(Tokens[i], 128)\n",
    "    \n",
    "wordvec_df = pd.DataFrame(wordvec)\n",
    "wordvec_df.shape"
   ]
  },
  {
   "cell_type": "code",
   "execution_count": 53,
   "id": "05bb3000",
   "metadata": {},
   "outputs": [
    {
     "data": {
      "text/html": [
       "<div>\n",
       "<style scoped>\n",
       "    .dataframe tbody tr th:only-of-type {\n",
       "        vertical-align: middle;\n",
       "    }\n",
       "\n",
       "    .dataframe tbody tr th {\n",
       "        vertical-align: top;\n",
       "    }\n",
       "\n",
       "    .dataframe thead th {\n",
       "        text-align: right;\n",
       "    }\n",
       "</style>\n",
       "<table border=\"1\" class=\"dataframe\">\n",
       "  <thead>\n",
       "    <tr style=\"text-align: right;\">\n",
       "      <th></th>\n",
       "      <th>0</th>\n",
       "      <th>1</th>\n",
       "      <th>Label</th>\n",
       "    </tr>\n",
       "  </thead>\n",
       "  <tbody>\n",
       "    <tr>\n",
       "      <th>0</th>\n",
       "      <td>-0.335229</td>\n",
       "      <td>0.262476</td>\n",
       "      <td>0</td>\n",
       "    </tr>\n",
       "    <tr>\n",
       "      <th>1</th>\n",
       "      <td>-0.230614</td>\n",
       "      <td>-0.609419</td>\n",
       "      <td>1</td>\n",
       "    </tr>\n",
       "    <tr>\n",
       "      <th>2</th>\n",
       "      <td>2.117623</td>\n",
       "      <td>-0.045244</td>\n",
       "      <td>0</td>\n",
       "    </tr>\n",
       "    <tr>\n",
       "      <th>3</th>\n",
       "      <td>-0.251778</td>\n",
       "      <td>-0.210877</td>\n",
       "      <td>1</td>\n",
       "    </tr>\n",
       "    <tr>\n",
       "      <th>4</th>\n",
       "      <td>0.338919</td>\n",
       "      <td>0.600430</td>\n",
       "      <td>0</td>\n",
       "    </tr>\n",
       "    <tr>\n",
       "      <th>...</th>\n",
       "      <td>...</td>\n",
       "      <td>...</td>\n",
       "      <td>...</td>\n",
       "    </tr>\n",
       "    <tr>\n",
       "      <th>16481</th>\n",
       "      <td>-0.222434</td>\n",
       "      <td>-0.337643</td>\n",
       "      <td>1</td>\n",
       "    </tr>\n",
       "    <tr>\n",
       "      <th>16482</th>\n",
       "      <td>-0.287484</td>\n",
       "      <td>-0.188453</td>\n",
       "      <td>1</td>\n",
       "    </tr>\n",
       "    <tr>\n",
       "      <th>16483</th>\n",
       "      <td>-0.362155</td>\n",
       "      <td>0.175881</td>\n",
       "      <td>0</td>\n",
       "    </tr>\n",
       "    <tr>\n",
       "      <th>16484</th>\n",
       "      <td>2.541017</td>\n",
       "      <td>-0.354641</td>\n",
       "      <td>0</td>\n",
       "    </tr>\n",
       "    <tr>\n",
       "      <th>16485</th>\n",
       "      <td>-0.216490</td>\n",
       "      <td>-0.222374</td>\n",
       "      <td>1</td>\n",
       "    </tr>\n",
       "  </tbody>\n",
       "</table>\n",
       "<p>16486 rows × 3 columns</p>\n",
       "</div>"
      ],
      "text/plain": [
       "              0         1  Label\n",
       "0     -0.335229  0.262476      0\n",
       "1     -0.230614 -0.609419      1\n",
       "2      2.117623 -0.045244      0\n",
       "3     -0.251778 -0.210877      1\n",
       "4      0.338919  0.600430      0\n",
       "...         ...       ...    ...\n",
       "16481 -0.222434 -0.337643      1\n",
       "16482 -0.287484 -0.188453      1\n",
       "16483 -0.362155  0.175881      0\n",
       "16484  2.541017 -0.354641      0\n",
       "16485 -0.216490 -0.222374      1\n",
       "\n",
       "[16486 rows x 3 columns]"
      ]
     },
     "execution_count": 53,
     "metadata": {},
     "output_type": "execute_result"
    }
   ],
   "source": [
    "from sklearn.decomposition import PCA\n",
    "pca4 = PCA(n_components=2)\n",
    "principalComponents4 = pca4.fit_transform(wordvec_df)\n",
    "principalDf4 = pd.DataFrame(data = principalComponents4)\n",
    "finalDf4 = pd.concat([principalDf4, df[['Label']]], axis = 1)\n",
    "finalDf4"
   ]
  },
  {
   "cell_type": "code",
   "execution_count": 54,
   "id": "e1b2f2aa",
   "metadata": {},
   "outputs": [],
   "source": [
    "X = finalDf4.drop('Label',axis=1).values\n",
    "Y = finalDf4['Label'].values\n",
    "\n",
    "from sklearn.model_selection import train_test_split\n",
    "X_train, X_test, y_train, y_test = train_test_split(X,Y, test_size=0.3,random_state=0)"
   ]
  },
  {
   "cell_type": "code",
   "execution_count": 55,
   "id": "193a3085",
   "metadata": {},
   "outputs": [
    {
     "name": "stdout",
     "output_type": "stream",
     "text": [
      "              precision    recall  f1-score   support\n",
      "\n",
      "           0       0.95      0.75      0.84      2705\n",
      "           1       0.76      0.95      0.85      2241\n",
      "\n",
      "    accuracy                           0.84      4946\n",
      "   macro avg       0.86      0.85      0.84      4946\n",
      "weighted avg       0.87      0.84      0.84      4946\n",
      "\n",
      "[[2039  666]\n",
      " [ 102 2139]]\n",
      "accuracy is 0.8447230084917104\n"
     ]
    }
   ],
   "source": [
    "from sklearn.metrics import confusion_matrix\n",
    "from sklearn.metrics import classification_report\n",
    "\n",
    "# Gaussian Naive Bayes\n",
    "from sklearn.naive_bayes import GaussianNB\n",
    "classifier = GaussianNB()\n",
    "classifier.fit(X_train, y_train)\n",
    "\n",
    "y_pred = classifier.predict(X_test)\n",
    "\n",
    "# Summary of the predictions made by the classifier\n",
    "print(classification_report(y_test, y_pred))\n",
    "print(confusion_matrix(y_test, y_pred))\n",
    "# Accuracy score\n",
    "from sklearn.metrics import accuracy_score\n",
    "print('accuracy is',accuracy_score(y_pred,y_test))"
   ]
  },
  {
   "cell_type": "code",
   "execution_count": 56,
   "id": "c8e7aa50",
   "metadata": {},
   "outputs": [
    {
     "name": "stdout",
     "output_type": "stream",
     "text": [
      "              precision    recall  f1-score   support\n",
      "\n",
      "           0       0.94      0.96      0.95      2705\n",
      "           1       0.95      0.93      0.94      2241\n",
      "\n",
      "    accuracy                           0.94      4946\n",
      "   macro avg       0.94      0.94      0.94      4946\n",
      "weighted avg       0.94      0.94      0.94      4946\n",
      "\n",
      "[[2593  112]\n",
      " [ 165 2076]]\n",
      "accuracy is 0.9439951475940154\n"
     ]
    }
   ],
   "source": [
    "from sklearn.svm import SVC\n",
    "\n",
    "classifier = SVC()\n",
    "classifier.fit(X_train, y_train)\n",
    "\n",
    "y_pred = classifier.predict(X_test)\n",
    "\n",
    "# Summary of the predictions made by the classifier\n",
    "print(classification_report(y_test, y_pred))\n",
    "print(confusion_matrix(y_test, y_pred))\n",
    "# Accuracy score\n",
    "from sklearn.metrics import accuracy_score\n",
    "print('accuracy is',accuracy_score(y_pred,y_test))"
   ]
  },
  {
   "cell_type": "code",
   "execution_count": 57,
   "id": "85881398",
   "metadata": {},
   "outputs": [
    {
     "name": "stdout",
     "output_type": "stream",
     "text": [
      "0.4742779908167591\n"
     ]
    }
   ],
   "source": [
    "nclusters = 3  # this is the k in kmeans\n",
    "km = KMeans(n_clusters=nclusters)\n",
    "km.fit(X)\n",
    "\n",
    "y_cluster_kmeans = km.predict(X)\n",
    "from sklearn import metrics\n",
    "score = metrics.silhouette_score(X, y_cluster_kmeans)\n",
    "print(score)"
   ]
  },
  {
   "cell_type": "code",
   "execution_count": null,
   "id": "3b08480b",
   "metadata": {},
   "outputs": [],
   "source": []
  },
  {
   "cell_type": "code",
   "execution_count": 58,
   "id": "554d2eda",
   "metadata": {},
   "outputs": [],
   "source": [
    "import tensorflow_hub as hub\n",
    "import tensorflow.compat.v1 as tf\n",
    "tf.disable_eager_execution()"
   ]
  },
  {
   "cell_type": "code",
   "execution_count": 59,
   "id": "7eaee50f",
   "metadata": {},
   "outputs": [],
   "source": [
    "elmo = hub.Module(\"https://tfhub.dev/google/elmo/3\", trainable=True)"
   ]
  },
  {
   "cell_type": "code",
   "execution_count": 60,
   "id": "63c3f8f0",
   "metadata": {},
   "outputs": [],
   "source": [
    "def elmo_vectors(x):\n",
    "  embeddings = elmo(x.tolist(), signature=\"default\", as_dict=True)[\"elmo\"]\n",
    "\n",
    "  with tf.Session() as sess:\n",
    "    sess.run(tf.global_variables_initializer())\n",
    "    sess.run(tf.tables_initializer())\n",
    "    # return average of ELMo features\n",
    "    return sess.run(tf.reduce_mean(embeddings,1))"
   ]
  },
  {
   "cell_type": "code",
   "execution_count": 61,
   "id": "577ca23d",
   "metadata": {},
   "outputs": [],
   "source": [
    "elmo_list = [df[i:i+1000] for i in range(0,df.shape[0],1000)]"
   ]
  },
  {
   "cell_type": "code",
   "execution_count": null,
   "id": "a9442c6f",
   "metadata": {},
   "outputs": [
    {
     "name": "stdout",
     "output_type": "stream",
     "text": [
      "INFO:tensorflow:Saver not created because there are no variables in the graph to restore\n"
     ]
    },
    {
     "name": "stderr",
     "output_type": "stream",
     "text": [
      "INFO:tensorflow:Saver not created because there are no variables in the graph to restore\n"
     ]
    },
    {
     "name": "stdout",
     "output_type": "stream",
     "text": [
      "INFO:tensorflow:Saver not created because there are no variables in the graph to restore\n"
     ]
    },
    {
     "name": "stderr",
     "output_type": "stream",
     "text": [
      "INFO:tensorflow:Saver not created because there are no variables in the graph to restore\n"
     ]
    },
    {
     "name": "stdout",
     "output_type": "stream",
     "text": [
      "INFO:tensorflow:Saver not created because there are no variables in the graph to restore\n"
     ]
    },
    {
     "name": "stderr",
     "output_type": "stream",
     "text": [
      "INFO:tensorflow:Saver not created because there are no variables in the graph to restore\n"
     ]
    },
    {
     "name": "stdout",
     "output_type": "stream",
     "text": [
      "INFO:tensorflow:Saver not created because there are no variables in the graph to restore\n"
     ]
    },
    {
     "name": "stderr",
     "output_type": "stream",
     "text": [
      "INFO:tensorflow:Saver not created because there are no variables in the graph to restore\n"
     ]
    },
    {
     "name": "stdout",
     "output_type": "stream",
     "text": [
      "INFO:tensorflow:Saver not created because there are no variables in the graph to restore\n"
     ]
    },
    {
     "name": "stderr",
     "output_type": "stream",
     "text": [
      "INFO:tensorflow:Saver not created because there are no variables in the graph to restore\n"
     ]
    },
    {
     "name": "stdout",
     "output_type": "stream",
     "text": [
      "INFO:tensorflow:Saver not created because there are no variables in the graph to restore\n"
     ]
    },
    {
     "name": "stderr",
     "output_type": "stream",
     "text": [
      "INFO:tensorflow:Saver not created because there are no variables in the graph to restore\n"
     ]
    }
   ],
   "source": [
    "elmo_words = [elmo_vectors(x['Tweet_PP']) for x in elmo_list]"
   ]
  },
  {
   "cell_type": "code",
   "execution_count": 15,
   "id": "53fe3dc5",
   "metadata": {},
   "outputs": [],
   "source": [
    "elmo_words_new = np.concatenate(elmo_words, axis = 0)"
   ]
  },
  {
   "cell_type": "code",
   "execution_count": 16,
   "id": "fd97f4a0",
   "metadata": {},
   "outputs": [
    {
     "data": {
      "text/html": [
       "<div>\n",
       "<style scoped>\n",
       "    .dataframe tbody tr th:only-of-type {\n",
       "        vertical-align: middle;\n",
       "    }\n",
       "\n",
       "    .dataframe tbody tr th {\n",
       "        vertical-align: top;\n",
       "    }\n",
       "\n",
       "    .dataframe thead th {\n",
       "        text-align: right;\n",
       "    }\n",
       "</style>\n",
       "<table border=\"1\" class=\"dataframe\">\n",
       "  <thead>\n",
       "    <tr style=\"text-align: right;\">\n",
       "      <th></th>\n",
       "      <th>PC1</th>\n",
       "      <th>PC2</th>\n",
       "      <th>Label</th>\n",
       "    </tr>\n",
       "  </thead>\n",
       "  <tbody>\n",
       "    <tr>\n",
       "      <th>0</th>\n",
       "      <td>-0.906201</td>\n",
       "      <td>0.346986</td>\n",
       "      <td>0</td>\n",
       "    </tr>\n",
       "    <tr>\n",
       "      <th>1</th>\n",
       "      <td>2.377948</td>\n",
       "      <td>-0.311592</td>\n",
       "      <td>1</td>\n",
       "    </tr>\n",
       "    <tr>\n",
       "      <th>2</th>\n",
       "      <td>-2.594415</td>\n",
       "      <td>0.270726</td>\n",
       "      <td>1</td>\n",
       "    </tr>\n",
       "    <tr>\n",
       "      <th>3</th>\n",
       "      <td>-0.550916</td>\n",
       "      <td>-0.150554</td>\n",
       "      <td>0</td>\n",
       "    </tr>\n",
       "    <tr>\n",
       "      <th>4</th>\n",
       "      <td>-0.508168</td>\n",
       "      <td>0.263040</td>\n",
       "      <td>1</td>\n",
       "    </tr>\n",
       "    <tr>\n",
       "      <th>...</th>\n",
       "      <td>...</td>\n",
       "      <td>...</td>\n",
       "      <td>...</td>\n",
       "    </tr>\n",
       "    <tr>\n",
       "      <th>16358</th>\n",
       "      <td>-2.170386</td>\n",
       "      <td>0.040909</td>\n",
       "      <td>1</td>\n",
       "    </tr>\n",
       "    <tr>\n",
       "      <th>16359</th>\n",
       "      <td>1.088141</td>\n",
       "      <td>-1.478475</td>\n",
       "      <td>0</td>\n",
       "    </tr>\n",
       "    <tr>\n",
       "      <th>16360</th>\n",
       "      <td>5.633072</td>\n",
       "      <td>3.165085</td>\n",
       "      <td>0</td>\n",
       "    </tr>\n",
       "    <tr>\n",
       "      <th>16361</th>\n",
       "      <td>-1.737812</td>\n",
       "      <td>0.434965</td>\n",
       "      <td>0</td>\n",
       "    </tr>\n",
       "    <tr>\n",
       "      <th>16362</th>\n",
       "      <td>-1.809828</td>\n",
       "      <td>0.159126</td>\n",
       "      <td>0</td>\n",
       "    </tr>\n",
       "  </tbody>\n",
       "</table>\n",
       "<p>16363 rows × 3 columns</p>\n",
       "</div>"
      ],
      "text/plain": [
       "            PC1       PC2  Label\n",
       "0     -0.906201  0.346986      0\n",
       "1      2.377948 -0.311592      1\n",
       "2     -2.594415  0.270726      1\n",
       "3     -0.550916 -0.150554      0\n",
       "4     -0.508168  0.263040      1\n",
       "...         ...       ...    ...\n",
       "16358 -2.170386  0.040909      1\n",
       "16359  1.088141 -1.478475      0\n",
       "16360  5.633072  3.165085      0\n",
       "16361 -1.737812  0.434965      0\n",
       "16362 -1.809828  0.159126      0\n",
       "\n",
       "[16363 rows x 3 columns]"
      ]
     },
     "execution_count": 16,
     "metadata": {},
     "output_type": "execute_result"
    }
   ],
   "source": [
    "from sklearn.decomposition import PCA\n",
    "pca5 = PCA(n_components=2)\n",
    "principalComponents5 = pca5.fit_transform(elmo_words_new)\n",
    "principalDf5 = pd.DataFrame(data = principalComponents5, columns = ['PC1', 'PC2'])\n",
    "finalDf5 = pd.concat([principalDf5, df[['Label']]], axis = 1)\n",
    "finalDf5"
   ]
  },
  {
   "cell_type": "code",
   "execution_count": 17,
   "id": "d0ed0eb7",
   "metadata": {},
   "outputs": [],
   "source": [
    "X = finalDf5.drop('Label',axis=1).values\n",
    "Y = finalDf5['Label'].values\n",
    "\n",
    "from sklearn.model_selection import train_test_split\n",
    "X_train, X_test, y_train, y_test = train_test_split(X,Y, test_size=0.3,random_state=0)"
   ]
  },
  {
   "cell_type": "code",
   "execution_count": 18,
   "id": "3e91db6a",
   "metadata": {},
   "outputs": [
    {
     "name": "stdout",
     "output_type": "stream",
     "text": [
      "              precision    recall  f1-score   support\n",
      "\n",
      "           0       0.52      0.38      0.43      2280\n",
      "           1       0.56      0.69      0.62      2629\n",
      "\n",
      "    accuracy                           0.55      4909\n",
      "   macro avg       0.54      0.53      0.53      4909\n",
      "weighted avg       0.54      0.55      0.53      4909\n",
      "\n",
      "[[ 855 1425]\n",
      " [ 805 1824]]\n",
      "accuracy is 0.5457323283764515\n"
     ]
    }
   ],
   "source": [
    "from sklearn.metrics import confusion_matrix\n",
    "from sklearn.metrics import classification_report\n",
    "\n",
    "# Gaussian Naive Bayes\n",
    "from sklearn.naive_bayes import GaussianNB\n",
    "classifier = GaussianNB()\n",
    "classifier.fit(X_train, y_train)\n",
    "\n",
    "y_pred = classifier.predict(X_test)\n",
    "\n",
    "# Summary of the predictions made by the classifier\n",
    "print(classification_report(y_test, y_pred))\n",
    "print(confusion_matrix(y_test, y_pred))\n",
    "# Accuracy score\n",
    "from sklearn.metrics import accuracy_score\n",
    "print('accuracy is',accuracy_score(y_pred,y_test))"
   ]
  },
  {
   "cell_type": "code",
   "execution_count": 19,
   "id": "82a64949",
   "metadata": {},
   "outputs": [
    {
     "name": "stdout",
     "output_type": "stream",
     "text": [
      "              precision    recall  f1-score   support\n",
      "\n",
      "           0       0.53      0.38      0.44      2280\n",
      "           1       0.57      0.71      0.63      2629\n",
      "\n",
      "    accuracy                           0.55      4909\n",
      "   macro avg       0.55      0.54      0.54      4909\n",
      "weighted avg       0.55      0.55      0.54      4909\n",
      "\n",
      "[[ 867 1413]\n",
      " [ 775 1854]]\n",
      "accuracy is 0.554288042371155\n"
     ]
    }
   ],
   "source": [
    "from sklearn.svm import SVC\n",
    "\n",
    "classifier = SVC()\n",
    "classifier.fit(X_train, y_train)\n",
    "\n",
    "y_pred = classifier.predict(X_test)\n",
    "\n",
    "# Summary of the predictions made by the classifier\n",
    "print(classification_report(y_test, y_pred))\n",
    "print(confusion_matrix(y_test, y_pred))\n",
    "# Accuracy score\n",
    "from sklearn.metrics import accuracy_score\n",
    "print('accuracy is',accuracy_score(y_pred,y_test))"
   ]
  },
  {
   "cell_type": "code",
   "execution_count": 22,
   "id": "375e6078",
   "metadata": {},
   "outputs": [
    {
     "data": {
      "image/png": "[encoded data removed]",
      "text/plain": [
       "<Figure size 432x288 with 1 Axes>"
      ]
     },
     "metadata": {
      "needs_background": "light"
     },
     "output_type": "display_data"
    }
   ],
   "source": [
    "from sklearn.cluster import KMeans\n",
    "wcss = []\n",
    "for i in range(1,11):\n",
    "    kmeans = KMeans(n_clusters=i,init='k-means++',max_iter=300,n_init=10,random_state=0)\n",
    "    kmeans.fit(X)\n",
    "    wcss.append(kmeans.inertia_)\n",
    "\n",
    "plt.plot(range(1,11),wcss)\n",
    "plt.title('the elbow method')\n",
    "plt.xlabel('Number of Clusters')\n",
    "plt.ylabel('Wcss')\n",
    "plt.show()"
   ]
  },
  {
   "cell_type": "code",
   "execution_count": 23,
   "id": "1bf57cb6",
   "metadata": {},
   "outputs": [
    {
     "name": "stdout",
     "output_type": "stream",
     "text": [
      "0.42760342\n"
     ]
    }
   ],
   "source": [
    "nclusters = 3  # this is the k in kmeans\n",
    "km = KMeans(n_clusters=nclusters)\n",
    "km.fit(X)\n",
    "\n",
    "y_cluster_kmeans = km.predict(X)\n",
    "from sklearn import metrics\n",
    "score = metrics.silhouette_score(X, y_cluster_kmeans)\n",
    "print(score)"
   ]
  },
  {
   "cell_type": "code",
   "execution_count": null,
   "id": "a70447cf",
   "metadata": {},
   "outputs": [],
   "source": []
  }
 ],
 "metadata": {
  "kernelspec": {
   "display_name": "Python 3 (ipykernel)",
   "language": "python",
   "name": "python3"
  },
  "language_info": {
   "codemirror_mode": {
    "name": "ipython",
    "version": 3
   },
   "file_extension": ".py",
   "mimetype": "text/x-python",
   "name": "python",
   "nbconvert_exporter": "python",
   "pygments_lexer": "ipython3",
   "version": "3.9.12"
  }
 },
 "nbformat": 4,
 "nbformat_minor": 5
}
